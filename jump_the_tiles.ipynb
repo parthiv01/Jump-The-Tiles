{
  "nbformat": 4,
  "nbformat_minor": 0,
  "metadata": {
    "colab": {
      "provenance": []
    },
    "kernelspec": {
      "name": "python3",
      "display_name": "Python 3"
    },
    "language_info": {
      "name": "python"
    }
  },
  "cells": [
    {
      "cell_type": "code",
      "execution_count": null,
      "metadata": {
        "id": "e7bd6o22e_7v"
      },
      "outputs": [],
      "source": [
        "board = [\n",
        " [2, 1, 2, 1, 1, 2, 3, 1, 3, 3],\n",
        " [3, 3, 3, 2, 3, 3, 3, 2, 3, 3],\n",
        " [2, 1, 3, 3, 2, 2, 3, 3, 2, 3],\n",
        " [1, 2, 1, 1, 3, 1, 3, 2, 2, 3],\n",
        " [1, 2, 2, 2, 2, 1, 2, 1, 2, 2],\n",
        " [1, 2, 3, 2, 3, 2, 1, 2, 3, 1],\n",
        " [1, 2, 2, 3, 3, 2, 3, 3, 1, 1],\n",
        " [3, 2, 1, 2, 1, 2, 1, 3, 3, 2],\n",
        " [2, 3, 2, 3, 1, 3, 2, 2, 1, 2],\n",
        " [2, 1, 3, 3, 1, 3, 1, 1, 2, 2]\n",
        "]"
      ]
    },
    {
      "cell_type": "code",
      "source": [
        "class Coordinates:\n",
        "    def __init__(self, x, y):\n",
        "        self.x = x\n",
        "        self.y = y\n",
        "    def get_x(self):\n",
        "        return self.x\n",
        "    def get_y(self):\n",
        "        return self.y\n",
        "\n",
        "marker = Coordinates(4,4)\n",
        "goal = Coordinates(3,4)"
      ],
      "metadata": {
        "id": "DjJnPaXJp9kG"
      },
      "execution_count": null,
      "outputs": []
    },
    {
      "cell_type": "code",
      "source": [
        "def print_board(board):\n",
        "    print(\"*\"*20)\n",
        "    x0 = marker.x\n",
        "    y0 = marker.y\n",
        "    x1 = goal.x\n",
        "    y1 = goal.y\n",
        "    for x in range(len(board)):\n",
        "        for y in range(len(board[x])):\n",
        "            if(x == x0 and y == y0):\n",
        "                print(0,\" \", end='') #start tile\n",
        "            elif(x == x1 and y == y1):\n",
        "                print(9,\" \", end='') #goal tile\n",
        "            else:\n",
        "                print(board[x][y], \" \", end='')\n",
        "        print()\n",
        "    print(\"*\"*20)"
      ],
      "metadata": {
        "id": "0bUfNZjppLQV"
      },
      "execution_count": null,
      "outputs": []
    },
    {
      "cell_type": "code",
      "source": [
        "def move_marker(board,marker,d): #d denotes the direction (0-7)\n",
        "    dir = {\n",
        "        0:Coordinates(0,1),\n",
        "        1:Coordinates(-1,1),\n",
        "        2:Coordinates(-1,0),\n",
        "        3:Coordinates(-1,-1),\n",
        "        4:Coordinates(0,-1),\n",
        "        5:Coordinates(1,-1),\n",
        "        6:Coordinates(1,0),\n",
        "        7:Coordinates(1,1)\n",
        "    }\n",
        "    x1 = marker.x\n",
        "    y1 = marker.y\n",
        "    j = board[x1][y1] #can only jump j steps i.e. the number at which marker is\n",
        "\n",
        "    marker = Coordinates(x1+dir[d].x*j, y1+dir[d].y*j)\n",
        "    return marker"
      ],
      "metadata": {
        "id": "7isHnBwpfzQA"
      },
      "execution_count": null,
      "outputs": []
    },
    {
      "cell_type": "code",
      "source": [
        "#play game\n",
        "k = 0\n",
        "while True:\n",
        "    print_board(board)\n",
        "    k+=1\n",
        "    print(\"Move \",k,\": \")\n",
        "    print(\"You are at: \", board[marker.x][marker.y])\n",
        "    d = int(input(\"Enter Direction(0-7): \"))\n",
        "    marker = move_marker(board,marker,d)\n",
        "    if(goal.x == marker.x and goal.y == marker.y):\n",
        "        print(\"Game Over!\")\n",
        "        break\n"
      ],
      "metadata": {
        "id": "84qw-oL9rvbJ",
        "colab": {
          "base_uri": "https://localhost:8080/",
          "height": 255
        },
        "outputId": "0abac4e0-29b2-4ff1-a021-1c0faaa91d7f"
      },
      "execution_count": null,
      "outputs": [
        {
          "output_type": "error",
          "ename": "NameError",
          "evalue": "ignored",
          "traceback": [
            "\u001b[0;31m---------------------------------------------------------------------------\u001b[0m",
            "\u001b[0;31mNameError\u001b[0m                                 Traceback (most recent call last)",
            "\u001b[0;32m<ipython-input-1-699d9b2d2350>\u001b[0m in \u001b[0;36m<cell line: 3>\u001b[0;34m()\u001b[0m\n\u001b[1;32m      2\u001b[0m \u001b[0mk\u001b[0m \u001b[0;34m=\u001b[0m \u001b[0;36m0\u001b[0m\u001b[0;34m\u001b[0m\u001b[0;34m\u001b[0m\u001b[0m\n\u001b[1;32m      3\u001b[0m \u001b[0;32mwhile\u001b[0m \u001b[0;32mTrue\u001b[0m\u001b[0;34m:\u001b[0m\u001b[0;34m\u001b[0m\u001b[0;34m\u001b[0m\u001b[0m\n\u001b[0;32m----> 4\u001b[0;31m     \u001b[0mprint_board\u001b[0m\u001b[0;34m(\u001b[0m\u001b[0mboard\u001b[0m\u001b[0;34m)\u001b[0m\u001b[0;34m\u001b[0m\u001b[0;34m\u001b[0m\u001b[0m\n\u001b[0m\u001b[1;32m      5\u001b[0m     \u001b[0mk\u001b[0m\u001b[0;34m+=\u001b[0m\u001b[0;36m1\u001b[0m\u001b[0;34m\u001b[0m\u001b[0;34m\u001b[0m\u001b[0m\n\u001b[1;32m      6\u001b[0m     \u001b[0mprint\u001b[0m\u001b[0;34m(\u001b[0m\u001b[0;34m\"Move \"\u001b[0m\u001b[0;34m,\u001b[0m\u001b[0mk\u001b[0m\u001b[0;34m,\u001b[0m\u001b[0;34m\": \"\u001b[0m\u001b[0;34m)\u001b[0m\u001b[0;34m\u001b[0m\u001b[0;34m\u001b[0m\u001b[0m\n",
            "\u001b[0;31mNameError\u001b[0m: name 'print_board' is not defined"
          ]
        }
      ]
    }
  ]
}